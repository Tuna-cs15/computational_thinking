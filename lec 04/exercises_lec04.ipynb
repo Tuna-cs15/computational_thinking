{
 "cells": [
  {
   "cell_type": "code",
   "execution_count": 2,
   "id": "fa8219ea",
   "metadata": {},
   "outputs": [
    {
     "name": "stdout",
     "output_type": "stream",
     "text": [
      "54321"
     ]
    }
   ],
   "source": [
    "#A1\n",
    "n=input()\n",
    "for i in range(len(n)-1,-1,-1):\n",
    "    print(n[i],end=\"\")"
   ]
  },
  {
   "cell_type": "code",
   "execution_count": 3,
   "id": "58fb57d7",
   "metadata": {},
   "outputs": [
    {
     "name": "stdout",
     "output_type": "stream",
     "text": [
      "2 1\n"
     ]
    }
   ],
   "source": [
    "#A2\n",
    "a,b=map(int,input().split())\n",
    "a = a ^ b #tổng hợp các bit 1 của a và b\n",
    "b = a ^ b #lấy các bit 1 của a mà b không có\n",
    "a = a ^ b #lấy các bit 1 của b mà a không có\n",
    "print(a,b)"
   ]
  },
  {
   "cell_type": "code",
   "execution_count": 4,
   "id": "085ef255",
   "metadata": {},
   "outputs": [
    {
     "name": "stdout",
     "output_type": "stream",
     "text": [
      "True\n"
     ]
    }
   ],
   "source": [
    "#A3 \n",
    "n=int(input())\n",
    "if n & (n-1) == 0:\n",
    "    print(\"True\")\n",
    "else:\n",
    "    print(\"False\")"
   ]
  },
  {
   "cell_type": "code",
   "execution_count": 12,
   "id": "679f7b53",
   "metadata": {},
   "outputs": [
    {
     "name": "stdout",
     "output_type": "stream",
     "text": [
      "3\n"
     ]
    }
   ],
   "source": [
    "#A4\n",
    "import decimal\n",
    "a , b = map(decimal.Decimal,input().split())\n",
    "c=a/b \n",
    "if c<=round(c):\n",
    "    c_rounded=round(c)-1\n",
    "else:\n",
    "    c_rounded=round(c)\n",
    "print(c_rounded)"
   ]
  },
  {
   "cell_type": "code",
   "execution_count": 14,
   "id": "703f6ae3",
   "metadata": {},
   "outputs": [
    {
     "name": "stdout",
     "output_type": "stream",
     "text": [
      "1\n"
     ]
    }
   ],
   "source": [
    "#A5\n",
    "import decimal\n",
    "a , b = map(decimal.Decimal,input().split())\n",
    "c=a/b \n",
    "if c<=round(c):\n",
    "    c_rounded=round(c)\n",
    "else:\n",
    "    c_rounded=round(c)+1\n",
    "print(c_rounded)"
   ]
  },
  {
   "cell_type": "code",
   "execution_count": null,
   "id": "b7a62825",
   "metadata": {},
   "outputs": [
    {
     "name": "stdout",
     "output_type": "stream",
     "text": [
      "Even\n"
     ]
    }
   ],
   "source": [
    "#Even and Odd\n",
    "n=int(input())\n",
    "if n&1==0:\n",
    "    print(\"Even\")\n",
    "else:\n",
    "    print(\"Odd\")"
   ]
  },
  {
   "cell_type": "code",
   "execution_count": null,
   "id": "0a032382",
   "metadata": {},
   "outputs": [
    {
     "name": "stdout",
     "output_type": "stream",
     "text": [
      "Yes\n"
     ]
    }
   ],
   "source": [
    "#Check negative numbers\n",
    "a=int(input())\n",
    "b=int(input())\n",
    "if a<0 and b<0: print(\"Yes\")\n",
    "else: print(\"No\")"
   ]
  },
  {
   "cell_type": "code",
   "execution_count": null,
   "id": "a2852007",
   "metadata": {},
   "outputs": [
    {
     "name": "stdout",
     "output_type": "stream",
     "text": [
      "False\n"
     ]
    }
   ],
   "source": [
    "#Longer string\n",
    "a=input()\n",
    "b=input()\n",
    "if len(a)>len(b): print(\"True\")\n",
    "else: print(\"False\")"
   ]
  },
  {
   "cell_type": "code",
   "execution_count": null,
   "id": "ef6c68c0",
   "metadata": {},
   "outputs": [
    {
     "name": "stdout",
     "output_type": "stream",
     "text": [
      "No\n"
     ]
    }
   ],
   "source": [
    "#Triangle\n",
    "a=int(input())\n",
    "b=int(input())\n",
    "c=int(input())\n",
    "if a+b>c and a+c>b and b+c>a and a>0 and b>0 and c>0: print(\"Yes\")\n",
    "else: print(\"No\")"
   ]
  },
  {
   "cell_type": "code",
   "execution_count": null,
   "id": "b60db62e",
   "metadata": {},
   "outputs": [
    {
     "name": "stdout",
     "output_type": "stream",
     "text": [
      "3123\n"
     ]
    }
   ],
   "source": [
    "#Largest number\n",
    "a=int(input())\n",
    "b=int(input())\n",
    "c=int(input())\n",
    "d=int(input())\n",
    "if b>a: a=b\n",
    "if c>a: a=c\n",
    "if d>a: a=d\n",
    "print(a)"
   ]
  },
  {
   "cell_type": "code",
   "execution_count": null,
   "id": "bf17233a",
   "metadata": {},
   "outputs": [
    {
     "name": "stdout",
     "output_type": "stream",
     "text": [
      "Không phải tam giác\n"
     ]
    }
   ],
   "source": [
    "#Phân loại tam giác\n",
    "a, b, c = map(int,input().split())\n",
    "if a+b>c and a+c>b and b+c>a and a>0 and b>0 and c>0:\n",
    "    if a==b==c: print(\"Tam giác đều\")\n",
    "    elif a==b or b==c or a==c: print(\"Tam giác cân\")\n",
    "    else: print(\"Tam giác thường\")\n",
    "else: print(\"Không phải tam giác\")"
   ]
  },
  {
   "cell_type": "code",
   "execution_count": null,
   "id": "6bfb056b",
   "metadata": {},
   "outputs": [
    {
     "name": "stdout",
     "output_type": "stream",
     "text": [
      "Yes\n"
     ]
    }
   ],
   "source": [
    "#Kiểm tra năm nhuận\n",
    "n=int(input())\n",
    "if (n%4==0 and n%100!=0) or n%400==0:\n",
    "    print(\"Yes\")\n",
    "else:\n",
    "    print(\"No\")"
   ]
  },
  {
   "cell_type": "code",
   "execution_count": null,
   "id": "75e6689c",
   "metadata": {},
   "outputs": [
    {
     "name": "stdout",
     "output_type": "stream",
     "text": [
      "175000\n"
     ]
    }
   ],
   "source": [
    "#Tính tiền điện\n",
    "n=int(input())\n",
    "s=0\n",
    "if n>=50:\n",
    "    s+=50*1500\n",
    "    if n>=100:\n",
    "        s+=50*2000\n",
    "        if n>100:\n",
    "            s+=(n-100)*3000\n",
    "    else: s+=(n-50)*2000\n",
    "else: s+=n*1500\n",
    "print(s)"
   ]
  },
  {
   "cell_type": "code",
   "execution_count": null,
   "id": "5619e831",
   "metadata": {},
   "outputs": [
    {
     "name": "stdout",
     "output_type": "stream",
     "text": [
      "0.00\n"
     ]
    }
   ],
   "source": [
    "#Giải phương trình bậc nhất\n",
    "import decimal\n",
    "a=decimal.Decimal(input())\n",
    "b=decimal.Decimal(input())\n",
    "if a==0 and b==0: print(\"Vô số nghiệm\")\n",
    "elif a==0 and b!=0: print(\"Vô nghiệm\")\n",
    "else: \n",
    "    n=-b/a\n",
    "    n_rounded=n.quantize(decimal.Decimal('0.01'), rounding=decimal.ROUND_HALF_UP)\n",
    "    print(n_rounded)"
   ]
  },
  {
   "cell_type": "code",
   "execution_count": null,
   "id": "f3a5c518",
   "metadata": {},
   "outputs": [
    {
     "name": "stdout",
     "output_type": "stream",
     "text": [
      "Giỏi\n"
     ]
    }
   ],
   "source": [
    "#Xếp loại học lực\n",
    "n=float(input())\n",
    "if n<5.0: print(\"Yếu\")\n",
    "elif 5.0<=n<6.5: print(\"Trung bình\")\n",
    "elif 6.5<=n<8.0: print(\"Khá\")\n",
    "else: print(\"Giỏi\")"
   ]
  },
  {
   "cell_type": "code",
   "execution_count": null,
   "id": "9cba4e8e",
   "metadata": {},
   "outputs": [
    {
     "name": "stdout",
     "output_type": "stream",
     "text": [
      "8 7 7\n"
     ]
    }
   ],
   "source": [
    "#Rounding\n",
    "n=float(input())\n",
    "if n==int(n):\n",
    "    print(int(n),int(n),int(n))\n",
    "else:\n",
    "    n_rounded_1=int(n)\n",
    "    if n<0: n_rounded_2=n_rounded_1-1\n",
    "    else: \n",
    "        n_rounded_2=n_rounded_1+1 \n",
    "        n_rounded_2,n_rounded_1=n_rounded_1,n_rounded_2\n",
    "    print(n_rounded_1,n_rounded_2,end=\" \")\n",
    "    if n<0:\n",
    "        if -n+n_rounded_1<n-n_rounded_2: print(n_rounded_1)\n",
    "        else: print(n_rounded_2)\n",
    "    else:\n",
    "        if -n+n_rounded_1<n-n_rounded_2: print(n_rounded_1)\n",
    "        else: print(n_rounded_2)"
   ]
  },
  {
   "cell_type": "code",
   "execution_count": null,
   "id": "35b09dae",
   "metadata": {},
   "outputs": [],
   "source": [
    "#Phân loại tam giác\n",
    "a, b, c = map(int,input().split())\n",
    "if a+b>c and a+c>b and b+c>a and a>0 and b>0 and c>0:\n",
    "    if a==b==c: print(\"Tam giác đều\")\n",
    "    elif a==b or b==c or a==c: print(\"Tam giác cân\")\n",
    "    else: print(\"Tam giác thường\")\n",
    "else: print(\"Không phải tam giác\")"
   ]
  }
 ],
 "metadata": {
  "kernelspec": {
   "display_name": "base",
   "language": "python",
   "name": "python3"
  },
  "language_info": {
   "codemirror_mode": {
    "name": "ipython",
    "version": 3
   },
   "file_extension": ".py",
   "mimetype": "text/x-python",
   "name": "python",
   "nbconvert_exporter": "python",
   "pygments_lexer": "ipython3",
   "version": "3.13.5"
  }
 },
 "nbformat": 4,
 "nbformat_minor": 5
}
